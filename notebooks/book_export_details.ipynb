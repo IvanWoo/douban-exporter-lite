{
 "cells": [
  {
   "cell_type": "code",
   "execution_count": 1,
   "metadata": {},
   "outputs": [],
   "source": [
    "%load_ext lab_black"
   ]
  },
  {
   "cell_type": "code",
   "execution_count": 2,
   "metadata": {},
   "outputs": [],
   "source": [
    "import requests\n",
    "from bs4 import BeautifulSoup"
   ]
  },
  {
   "cell_type": "code",
   "execution_count": 3,
   "metadata": {},
   "outputs": [],
   "source": [
    "from douban_exporter_lite.douban_exporter import DoubanExporter\n",
    "from douban_exporter_lite.misc import HEADERS"
   ]
  },
  {
   "cell_type": "code",
   "execution_count": 4,
   "metadata": {},
   "outputs": [],
   "source": [
    "cookies = requests.get(\n",
    "    \"https://movie.douban.com/people/ahbei/collect\", headers=HEADERS\n",
    ").cookies"
   ]
  },
  {
   "cell_type": "code",
   "execution_count": 5,
   "metadata": {},
   "outputs": [],
   "source": [
    "url = \"https://book.douban.com/people/ahbei/collect\"\n",
    "r = requests.get(url, cookies=cookies, headers=HEADERS)"
   ]
  },
  {
   "cell_type": "code",
   "execution_count": 6,
   "metadata": {},
   "outputs": [],
   "source": [
    "soup = BeautifulSoup(r.text, \"lxml\")"
   ]
  },
  {
   "cell_type": "code",
   "execution_count": 7,
   "metadata": {},
   "outputs": [],
   "source": [
    "book_items = soup.find_all(\"li\", {\"class\": \"subject-item\"})"
   ]
  },
  {
   "cell_type": "code",
   "execution_count": 8,
   "metadata": {},
   "outputs": [],
   "source": [
    "item = book_items[0]"
   ]
  },
  {
   "cell_type": "code",
   "execution_count": 9,
   "metadata": {},
   "outputs": [
    {
     "data": {
      "text/plain": [
       "<li class=\"subject-item\">\n",
       "<div class=\"pic\">\n",
       "<a class=\"nbg\" href=\"https://book.douban.com/subject/26832406/\" onclick=\"moreurl(this,{i:'0',query:'',subject_id:'26832406',from:'book_subject_search'})\">\n",
       "<img class=\"\" src=\"https://img3.doubanio.com/view/subject/m/public/s28908982.jpg\" width=\"90\"/>\n",
       "</a>\n",
       "</div>\n",
       "<div class=\"info\">\n",
       "<h2 class=\"\">\n",
       "<a href=\"https://book.douban.com/subject/26832406/\" onclick=\"moreurl(this,{i:'0',query:'',subject_id:'26832406',from:'book_subject_search'})\" title=\"Idea Makers\">\n",
       "\n",
       "    Idea Makers\n",
       "\n",
       "\n",
       "    \n",
       "      <span style=\"font-size:12px;\"> : Personal Perspectives on the Lives &amp; Ideas of Some Notable People </span>\n",
       "</a>\n",
       "</h2>\n",
       "<div class=\"pub\">\n",
       "        \n",
       "  \n",
       "  Stephen Wolfram / Wolfram Media, Inc. / 2016-7-7 / USD 22.95\n",
       "\n",
       "      </div>\n",
       "<div class=\"short-note\">\n",
       "<div>\n",
       "<span class=\"rating5-t\"></span>\n",
       "<span class=\"date\">2016-07-22\n",
       "      读过</span>\n",
       "</div>\n",
       "<p class=\"comment\">\n",
       "      Steven Wolfram给Mathematica、NKS有个人或精神关系的前人写的学术传记和个人唁文，或者说着迷于\"简单规则，复杂现象\"的松散的一群人的精神族谱。每篇都像是NKS的软文，但这是他一辈子的主线，是诚恳的。\n",
       "      \n",
       "  \n",
       "\n",
       "  </p>\n",
       "</div>\n",
       "<div class=\"ft\">\n",
       "<div class=\"cart-actions\">\n",
       "</div>\n",
       "</div>\n",
       "</div>\n",
       "</li>"
      ]
     },
     "execution_count": 9,
     "metadata": {},
     "output_type": "execute_result"
    }
   ],
   "source": [
    "item"
   ]
  },
  {
   "cell_type": "code",
   "execution_count": 10,
   "metadata": {},
   "outputs": [],
   "source": [
    "info_keys = [\n",
    "    \"title\",\n",
    "    \"writer\",\n",
    "    \"publishing_company\",\n",
    "    \"publish_date\",\n",
    "    \"mark_date\",\n",
    "    \"rating\",\n",
    "    \"comment\",\n",
    "    \"tags\",\n",
    "    \"douban_link\",\n",
    "]"
   ]
  },
  {
   "cell_type": "code",
   "execution_count": 11,
   "metadata": {},
   "outputs": [],
   "source": [
    "info_dict = dict.fromkeys(info_keys)"
   ]
  },
  {
   "cell_type": "code",
   "execution_count": 12,
   "metadata": {},
   "outputs": [],
   "source": [
    "info_dict[\"douban_link\"] = item.a[\"href\"]"
   ]
  },
  {
   "cell_type": "code",
   "execution_count": 13,
   "metadata": {},
   "outputs": [
    {
     "data": {
      "text/plain": [
       "'Idea Makers\\n\\n\\n    \\n       : Personal Perspectives on the Lives & Ideas of Some Notable People'"
      ]
     },
     "execution_count": 13,
     "metadata": {},
     "output_type": "execute_result"
    }
   ],
   "source": [
    "title = item.find(\"h2\").text.strip()\n",
    "title"
   ]
  },
  {
   "cell_type": "code",
   "execution_count": 14,
   "metadata": {},
   "outputs": [],
   "source": [
    "info_dict[\"title\"] = (\n",
    "    \": \".join(list(map(lambda x: x.strip(), title.split(\" : \"))))\n",
    "    if \":\" in title\n",
    "    else title\n",
    ")"
   ]
  },
  {
   "cell_type": "code",
   "execution_count": 15,
   "metadata": {},
   "outputs": [],
   "source": [
    "meta_data_list = list(\n",
    "    map(lambda x: x.strip(), item.find(\"div\", {\"class\": \"pub\"}).text.split(\" / \"),)\n",
    ")"
   ]
  },
  {
   "cell_type": "code",
   "execution_count": 16,
   "metadata": {},
   "outputs": [
    {
     "data": {
      "text/plain": [
       "['Stephen Wolfram', 'Wolfram Media, Inc.', '2016-7-7', 'USD 22.95']"
      ]
     },
     "execution_count": 16,
     "metadata": {},
     "output_type": "execute_result"
    }
   ],
   "source": [
    "meta_data_list"
   ]
  },
  {
   "cell_type": "code",
   "execution_count": 17,
   "metadata": {},
   "outputs": [
    {
     "data": {
      "text/plain": [
       "['2016-7-7']"
      ]
     },
     "execution_count": 17,
     "metadata": {},
     "output_type": "execute_result"
    }
   ],
   "source": [
    "[meta_data for meta_data in meta_data_list if meta_data[0].isdigit()]"
   ]
  },
  {
   "cell_type": "code",
   "execution_count": 18,
   "metadata": {},
   "outputs": [],
   "source": [
    "try:\n",
    "    publish_date = next(\n",
    "        meta_data for meta_data in meta_data_list if meta_data[0].isdigit()\n",
    "    )\n",
    "except StopIteration:\n",
    "    publish_date = None\n",
    "info_dict[\"publish_date\"] = publish_date"
   ]
  },
  {
   "cell_type": "code",
   "execution_count": 19,
   "metadata": {},
   "outputs": [],
   "source": [
    "info_dict[\"publishing_company\"] = (\n",
    "    meta_data_list[meta_data_list.index(publish_date) - 1] if publish_date else None\n",
    ")"
   ]
  },
  {
   "cell_type": "code",
   "execution_count": 20,
   "metadata": {},
   "outputs": [],
   "source": [
    "info_dict[\"mark_date\"] = item.find(\"span\", {\"class\": \"date\"}).text.split(\"\\n\")[0]"
   ]
  },
  {
   "cell_type": "code",
   "execution_count": 21,
   "metadata": {},
   "outputs": [],
   "source": [
    "rating = item.find(\"span\", {\"class\": \"date\"}).find_previous_siblings()\n",
    "if len(rating) > 0:\n",
    "    info_dict[\"rating\"] = DoubanExporter.get_rating(rating[0][\"class\"][0])"
   ]
  },
  {
   "cell_type": "code",
   "execution_count": 22,
   "metadata": {},
   "outputs": [],
   "source": [
    "comment = item.find(\"p\", {\"class\": \"comment\"})\n",
    "if comment:\n",
    "    info_dict[\"comment\"] = comment.contents[0].strip()"
   ]
  },
  {
   "cell_type": "code",
   "execution_count": 23,
   "metadata": {},
   "outputs": [],
   "source": [
    "tags = item.find(\"span\", {\"class\": \"tags\"})\n",
    "if tags:\n",
    "    info_dict[\"tags\"] = tags.text[3:].strip()"
   ]
  },
  {
   "cell_type": "code",
   "execution_count": 24,
   "metadata": {},
   "outputs": [
    {
     "data": {
      "text/plain": [
       "{'title': 'Idea Makers: Personal Perspectives on the Lives & Ideas of Some Notable People',\n",
       " 'writer': None,\n",
       " 'publishing_company': 'Wolfram Media, Inc.',\n",
       " 'publish_date': '2016-7-7',\n",
       " 'mark_date': '2016-07-22',\n",
       " 'rating': 5,\n",
       " 'comment': 'Steven Wolfram给Mathematica、NKS有个人或精神关系的前人写的学术传记和个人唁文，或者说着迷于\"简单规则，复杂现象\"的松散的一群人的精神族谱。每篇都像是NKS的软文，但这是他一辈子的主线，是诚恳的。',\n",
       " 'tags': None,\n",
       " 'douban_link': 'https://book.douban.com/subject/26832406/'}"
      ]
     },
     "execution_count": 24,
     "metadata": {},
     "output_type": "execute_result"
    }
   ],
   "source": [
    "info_dict"
   ]
  },
  {
   "cell_type": "code",
   "execution_count": 25,
   "metadata": {},
   "outputs": [
    {
     "data": {
      "text/plain": [
       "['Idea Makers: Personal Perspectives on the Lives & Ideas of Some Notable People',\n",
       " None,\n",
       " 'Wolfram Media, Inc.',\n",
       " '2016-7-7',\n",
       " '2016-07-22',\n",
       " 5,\n",
       " 'Steven Wolfram给Mathematica、NKS有个人或精神关系的前人写的学术传记和个人唁文，或者说着迷于\"简单规则，复杂现象\"的松散的一群人的精神族谱。每篇都像是NKS的软文，但这是他一辈子的主线，是诚恳的。',\n",
       " None,\n",
       " 'https://book.douban.com/subject/26832406/']"
      ]
     },
     "execution_count": 25,
     "metadata": {},
     "output_type": "execute_result"
    }
   ],
   "source": [
    "[info_dict[key] for key in info_keys]"
   ]
  },
  {
   "cell_type": "code",
   "execution_count": null,
   "metadata": {},
   "outputs": [],
   "source": []
  }
 ],
 "metadata": {
  "kernelspec": {
   "display_name": "Python 3",
   "language": "python",
   "name": "python3"
  },
  "language_info": {
   "codemirror_mode": {
    "name": "ipython",
    "version": 3
   },
   "file_extension": ".py",
   "mimetype": "text/x-python",
   "name": "python",
   "nbconvert_exporter": "python",
   "pygments_lexer": "ipython3",
   "version": "3.7.5"
  }
 },
 "nbformat": 4,
 "nbformat_minor": 4
}
